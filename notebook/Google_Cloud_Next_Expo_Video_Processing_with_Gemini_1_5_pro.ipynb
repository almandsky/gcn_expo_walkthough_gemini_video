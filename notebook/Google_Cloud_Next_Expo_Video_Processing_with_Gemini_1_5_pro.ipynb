{
  "cells": [
    {
      "cell_type": "markdown",
      "metadata": {
        "id": "084u8u0DpBlo"
      },
      "source": [
        "# Google Cloud Next Expo Video Processing with Gemini 1.5 pro"
      ]
    },
    {
      "cell_type": "markdown",
      "metadata": {
        "id": "wnQ_LVlzIeXo"
      },
      "source": [
        "<table align=\"left\">\n",
        "  <td>\n",
        "    <a target=\"_blank\" href=\"https://colab.research.google.com/github/almandsky/gcn_expo_walkthough_gemini_video/blob/main/notebook/Google_Cloud_Next_Expo_Video_Processing_with_Gemini_1_5_pro.ipynb\"><img src=\"https://www.tensorflow.org/images/colab_logo_32px.png\" />Run in Google Colab</a>\n",
        "  </td>\n",
        "</table>"
      ]
    },
    {
      "cell_type": "markdown",
      "metadata": {
        "id": "q7QvXQMrIhuZ"
      },
      "source": [
        "This notebook is based on the [Gemini API: Prompting with Video](https://github.com/google-gemini/cookbook/blob/main/quickstarts/Video.ipynb) notebook. We are using the Gemini 1.5 Pro to process the 46 minutes video of [Google Cloud Next 2024 Expo WALK through](https://youtu.be/sHjWg9hnK40?si=VW7nAp-xvzfJ14uJ) to analysis all the booths in the Expo, to give us some insights and statistics on the technical and business trend in the Cloud Computing eco system."
      ]
    },
    {
      "cell_type": "code",
      "execution_count": null,
      "metadata": {
        "id": "qLuL9m7KhvxR"
      },
      "outputs": [],
      "source": [
        "!pip install -U -q google-generativeai"
      ]
    },
    {
      "cell_type": "code",
      "execution_count": null,
      "metadata": {
        "id": "ATIbQM0NHhkj"
      },
      "outputs": [],
      "source": [
        "import google.generativeai as genai"
      ]
    },
    {
      "cell_type": "markdown",
      "metadata": {
        "id": "ngyzKAu3Nw5k"
      },
      "source": [
        "### Authentication Overview\n",
        "\n",
        "**Important:** The File API uses API keys for authentication and access. Uploaded files are associated with the API key's cloud project. Unlike other Gemini APIs that use API keys, your API key also grants access data you've uploaded to the File API, so take extra care in keeping your API key secure. For best practices on securing API keys, refer to Google's [documentation](https://support.google.com/googleapi/answer/6310037)."
      ]
    },
    {
      "cell_type": "markdown",
      "metadata": {
        "id": "l8g4hTRotheH"
      },
      "source": [
        "### Setup your API key\n",
        "\n",
        "To run the following cell, your API key must be stored it in a Colab Secret named `GOOGLE_API_KEY`. If you don't already have an API key, or you're not sure how to create a Colab Secret, see [Authentication](https://github.com/google-gemini/cookbook/blob/main/quickstarts/Authentication.ipynb) for an example."
      ]
    },
    {
      "cell_type": "code",
      "execution_count": null,
      "metadata": {
        "id": "d6lYXRcjthKV"
      },
      "outputs": [],
      "source": [
        "from google.colab import userdata\n",
        "GOOGLE_API_KEY=userdata.get('GOOGLE_API_KEY')\n",
        "genai.configure(api_key=GOOGLE_API_KEY)"
      ]
    },
    {
      "cell_type": "markdown",
      "metadata": {
        "id": "MNvhBdoDFnTC"
      },
      "source": [
        "## Extract frames\n",
        "\n",
        "The Gemini API currently does not support video files directly. Instead, you can provide a series of timestamps and image files.\n",
        "\n",
        "We will extract 2 frames a second (configurable) from the [Gemini API: Prompting with Video](https://github.com/google-gemini/cookbook/blob/main/quickstarts/Video.ipynb) video.\n",
        "\n",
        "Note: You can also [upload your own files](https://github.com/google-gemini/cookbook/tree/main/examples/Upload_files.ipynb) to use."
      ]
    },
    {
      "cell_type": "markdown",
      "metadata": {
        "id": "4_2KHEawhDD7"
      },
      "source": [
        "Use OpenCV to extract image frames from the video at N frame(s) per second."
      ]
    },
    {
      "cell_type": "code",
      "execution_count": null,
      "metadata": {
        "id": "ZUnH3uQ0xDcB"
      },
      "outputs": [],
      "source": [
        "from google.colab import drive\n",
        "\n",
        "# Mount your Google Drive\n",
        "drive.mount('/content/drive')\n",
        "\n",
        "# Replace the path and file name with the actual name of your video in Drive\n",
        "video_file_name = '/content/drive/MyDrive/Google AI Studio/google_cloud_next_2024_full_expo.mov'\n"
      ]
    },
    {
      "cell_type": "code",
      "execution_count": null,
      "metadata": {
        "id": "4IkUu0-lAQel"
      },
      "outputs": [],
      "source": [
        "import cv2\n",
        "import os\n",
        "import shutil\n",
        "\n",
        "# Create or cleanup existing extracted image frames directory.\n",
        "FRAME_EXTRACTION_DIRECTORY = \"/content/frames\"\n",
        "FRAME_PREFIX = \"_frame\"\n",
        "\n",
        "def create_frame_output_dir(output_dir):\n",
        "    if not os.path.exists(output_dir):\n",
        "        os.makedirs(output_dir)\n",
        "    else:\n",
        "        shutil.rmtree(output_dir)\n",
        "        os.makedirs(output_dir)\n",
        "\n",
        "def extract_frame_from_video(video_file_path, desired_fps=1):\n",
        "    print(f\"Extracting from {video_file_path} at {desired_fps} frame(s) per second. This might take a bit...\")\n",
        "    create_frame_output_dir(FRAME_EXTRACTION_DIRECTORY)\n",
        "    vidcap = cv2.VideoCapture(video_file_path)\n",
        "    actual_fps = vidcap.get(cv2.CAP_PROP_FPS)\n",
        "    frame_interval = int(actual_fps / desired_fps)  # Calculate the number of frames to skip\n",
        "    output_file_prefix = os.path.basename(video_file_path).replace('.', '_')\n",
        "    frame_count = 0\n",
        "    count = 0\n",
        "\n",
        "    while vidcap.isOpened():\n",
        "        success, frame = vidcap.read()\n",
        "        if not success:  # End of video\n",
        "            break\n",
        "        if count % frame_interval == 0:  # Capture frame at the interval of frame_interval\n",
        "            milliseconds = int((count / actual_fps) * 1000) % 1000\n",
        "            hours = (count // int(actual_fps)) // 3600\n",
        "            minutes = ((count // int(actual_fps)) // 60) % 60\n",
        "            seconds = (count // int(actual_fps)) % 60\n",
        "            time_string = f\"{hours:02}:{minutes:02}:{seconds:02}.{milliseconds:03}\"\n",
        "            image_name = f\"{output_file_prefix}{FRAME_PREFIX}{time_string}.jpg\"\n",
        "            output_filename = os.path.join(FRAME_EXTRACTION_DIRECTORY, image_name)\n",
        "            cv2.imwrite(output_filename, frame)\n",
        "            frame_count += 1\n",
        "        count += 1\n",
        "\n",
        "    vidcap.release()\n",
        "    print(f\"Completed video frame extraction!\\n\\nExtracted: {frame_count} frames\")\n",
        "\n",
        "\n",
        "extract_frame_from_video(video_file_name, desired_fps=2)\n"
      ]
    },
    {
      "cell_type": "markdown",
      "source": [
        "Upload the frames go Google Drive, so that we don't need to process again next time."
      ],
      "metadata": {
        "id": "PX2Tma8Kh6We"
      }
    },
    {
      "cell_type": "code",
      "source": [
        "import shutil\n",
        "source_folder = '/content/frames'\n",
        "destination_folder = '/content/drive/My Drive/Google AI Studio/frames_480_2'  # Adjust the path as needed\n",
        "\n",
        "# Copy the folder to Drive\n",
        "shutil.copytree(source_folder, destination_folder)"
      ],
      "metadata": {
        "id": "0f0XiHvqh5jj"
      },
      "execution_count": null,
      "outputs": []
    },
    {
      "cell_type": "markdown",
      "metadata": {
        "id": "EPPOECHzsIGJ"
      },
      "source": [
        "## Generate Content\n",
        "\n",
        "We will upload the files by batches, then make `GenerateContent` requests that reference the File API URI.\n",
        "\n",
        "To understand videos with Gemini 1.5 Pro, provide 2 consecutive `Part`s for each frame: a `text` part with the **timestamp** and `fileData` part with the frame's **image URI**:\n",
        "\n",
        "```\n",
        "part { text = \"00:00\" }\n",
        "part { fileData = fileData {\n",
        "  fileUri = \"https://generativelanguage.googleapis.com/v1/files/frame-0\"\n",
        "  mimeType = \"image/jpeg\"\n",
        "}}\n",
        "```"
      ]
    },
    {
      "cell_type": "code",
      "source": [
        "# create the output folder\n",
        "!mkdir output"
      ],
      "metadata": {
        "id": "OiagKXMA_3ni"
      },
      "execution_count": null,
      "outputs": []
    },
    {
      "cell_type": "code",
      "execution_count": null,
      "metadata": {
        "id": "nqa3Bim8hjdH"
      },
      "outputs": [],
      "source": [
        "prompt = \"\"\"\n",
        "\n",
        "Please help to process the images from Google Cloud Next 2024 Expo, and capture the following info, then output in json:\n",
        "\n",
        "The example value of the category are:\n",
        "\n",
        "['Cloud Solutions', 'Database', 'Open Source', 'Cloud Networking', 'Hardware', 'Cloud Commerce', 'Consulting', 'Security', 'Cloud Storage', 'LegalTech', 'DevOps', 'Cloud Monitoring', 'FinOps', 'AI and Customer Experience', 'Data Management', 'Software', 'AI and Data Solutions', 'Developer Tools', 'Blockchain']\n",
        "\n",
        "\n",
        "IMPORTANT: Please output only valid json.  Nothing else.\n",
        "\n",
        "\n",
        "[\n",
        "    {\n",
        "        boothNumber: \"The number of the booth\",\n",
        "        companyName: \"Name of the company\",\n",
        "        category: \"category of the company\",\n",
        "        summaryOfTheBooth: \"Detailed summary for what's this company is doing. Try to capture as many as info as possible.\"\n",
        "        businessModel: \"Based on the message and text on the booth, try to analyze the business model.\",\n",
        "        numberOfPeople: \"How many people are in front of the booth.  integer only.  if you don't know, put 0\",\n",
        "        startTimestamp: \"timestamp of the first image file that this booth appeared.\",\n",
        "        endTimestamp: \"timestamp of the last image file that this booth disappeared.\"\n",
        "    },\n",
        "    // another booth info\n",
        "]\n",
        "\n",
        "\"\"\""
      ]
    },
    {
      "cell_type": "code",
      "source": [
        "# define the batch size and starting batch number.\n",
        "# We can update the batch_number to resume from the last successful batch, in case there is network error or API call failure.\n",
        "\n",
        "batch_number = 1\n",
        "batch_size = 1000\n",
        "start_index = (batch_number - 1) * batch_size"
      ],
      "metadata": {
        "id": "aIJf7cu3O8tJ"
      },
      "execution_count": null,
      "outputs": []
    },
    {
      "cell_type": "code",
      "execution_count": null,
      "metadata": {
        "id": "30CNxMB1hgAt"
      },
      "outputs": [],
      "source": [
        "import os\n",
        "import shutil\n",
        "\n",
        "class File:\n",
        "    def __init__(self, file_path: str, display_name: str = None):\n",
        "        self.file_path = file_path\n",
        "        if display_name:\n",
        "            self.display_name = display_name\n",
        "        self.timestamp = get_timestamp(file_path)\n",
        "\n",
        "    def set_file_response(self, response):\n",
        "        self.response = response\n",
        "\n",
        "def get_timestamp(filename):\n",
        "    parts = filename.split(FRAME_PREFIX)\n",
        "    if len(parts) != 2:\n",
        "        return None\n",
        "    return parts[1].split('.')[0]\n",
        "\n",
        "def process_files_in_batches(files, batch_size):\n",
        "    for i in range(0, len(files), batch_size):\n",
        "        batch_files = files[i:i + batch_size]\n",
        "        yield batch_files\n",
        "\n",
        "# Initialize directories and constants\n",
        "FRAME_EXTRACTION_DIRECTORY = \"/content/frames\"\n",
        "FRAME_PREFIX = \"_frame\"\n",
        "# genai = None  # You need to set up your genai API client here\n",
        "# Set the model to Gemini 1.5 Pro.\n",
        "model = genai.GenerativeModel(model_name=\"models/gemini-1.5-pro-latest\")\n",
        "\n",
        "# Prepare files to upload\n",
        "all_files = sorted(os.listdir(FRAME_EXTRACTION_DIRECTORY))\n",
        "files_to_process = [File(os.path.join(FRAME_EXTRACTION_DIRECTORY, file)) for file in all_files]\n",
        "\n",
        "# Batch processing\n",
        "\n",
        "\n",
        "\n",
        "for files_batch in process_files_in_batches(files_to_process[start_index:], batch_size):\n",
        "    print(f'Processing batch {batch_number} with {len(files_batch)} files.')\n",
        "\n",
        "    # Upload files to the API\n",
        "    for file in files_batch:\n",
        "        print(f'Uploading: {file.file_path}...')\n",
        "        response = genai.upload_file(path=file.file_path)\n",
        "        file.set_file_response(response)\n",
        "\n",
        "    # Create and send the generation request\n",
        "    request = [prompt]\n",
        "    for file in files_batch:\n",
        "        request.append(file.timestamp)\n",
        "        request.append(file.response)\n",
        "    response = model.generate_content(request, request_options={\"timeout\": 600}, generation_config={\"temperature\": 0.1})\n",
        "    print(response)\n",
        "    # Save the response to a local file\n",
        "    with open(f'output/batch_{batch_number}_output.txt', 'w') as output_file:\n",
        "        output_file.write(response.text)\n",
        "\n",
        "\n",
        "    # Delete uploaded files\n",
        "    # for file in files_batch:\n",
        "    #     genai.delete_file(file.response.name)\n",
        "    #     print(f'Deleted {file.file_path} at URI {file.response.uri}')\n",
        "\n",
        "    batch_number += 1\n",
        "\n",
        "print(\"Completed all batches\")\n"
      ]
    },
    {
      "cell_type": "markdown",
      "source": [
        "## Convert the json to dataframe"
      ],
      "metadata": {
        "id": "Nw2_WJFjxhj6"
      }
    },
    {
      "cell_type": "code",
      "source": [
        "import os\n",
        "import json\n",
        "import pandas as pd\n",
        "\n",
        "# Initialize a list to store the data from all files\n",
        "all_data = []\n",
        "\n",
        "output_directory = 'output'  # Update to the path of your output directory\n",
        "files = os.listdir(output_directory)  # List all files in the directory\n",
        "\n",
        "# Sort files to process them in order\n",
        "files.sort()\n",
        "for i in range(1, len(files) + 1):\n",
        "    # Construct filename using the current index\n",
        "    filename = f\"batch_{i}_output.txt\"\n",
        "    if filename.endswith('.txt'):  # Check if it is a text file\n",
        "        file_path = os.path.join(output_directory, filename)\n",
        "        with open(file_path, 'r') as file:\n",
        "            file_content = file.read()\n",
        "            print(file_path)\n",
        "            cleaned_string = file_content.replace(\"```json\", \"\").replace(\"```\", \"\").strip()\n",
        "            # Parse the JSON string into a Python list of dictionaries\n",
        "            data = json.loads(cleaned_string)\n",
        "            all_data.extend(data)  # Append the data to the list\n",
        "\n",
        "# Convert the list of dictionaries into a pandas DataFrame\n",
        "df = pd.DataFrame(all_data)\n",
        "\n",
        "# Display the DataFrame\n",
        "len(df)"
      ],
      "metadata": {
        "id": "Mfr9sR2Mu8t3",
        "colab": {
          "base_uri": "https://localhost:8080/"
        },
        "outputId": "dc173b22-d56e-46c9-cb38-7c8c7249e121"
      },
      "execution_count": 1,
      "outputs": [
        {
          "output_type": "stream",
          "name": "stdout",
          "text": [
            "output/batch_1_output.txt\n",
            "output/batch_2_output.txt\n",
            "output/batch_3_output.txt\n",
            "output/batch_4_output.txt\n",
            "output/batch_5_output.txt\n",
            "output/batch_6_output.txt\n"
          ]
        },
        {
          "output_type": "execute_result",
          "data": {
            "text/plain": [
              "183"
            ]
          },
          "metadata": {},
          "execution_count": 1
        }
      ]
    },
    {
      "cell_type": "markdown",
      "source": [
        "# Save the dataframe to csv"
      ],
      "metadata": {
        "id": "45_8_a88xm5P"
      }
    },
    {
      "cell_type": "markdown",
      "source": [
        "### Convert the timestamp for youtube"
      ],
      "metadata": {
        "id": "614xj7qe7ewU"
      }
    },
    {
      "cell_type": "code",
      "source": [
        "def convert_timestamp(timestamp):\n",
        "    h, m, s, ms = timestamp.split('_')\n",
        "    # Convert hours, minutes, and seconds to integer\n",
        "    h, m, s = int(h), int(m), int(s)\n",
        "    # Calculate total minutes and seconds if hour is more than 0\n",
        "    total_minutes = h * 60 + m\n",
        "    return f\"{total_minutes}m{s}s\"\n",
        "\n",
        "# Apply the conversion function to startTimestamp and endTimestamp\n",
        "df['startTimestamp_youtube'] = df['startTimestamp'].apply(convert_timestamp)\n",
        "df['endTimestamp_youtube'] = df['endTimestamp'].apply(convert_timestamp)"
      ],
      "metadata": {
        "id": "Br-q8mvCtUVM"
      },
      "execution_count": 4,
      "outputs": []
    },
    {
      "cell_type": "markdown",
      "source": [
        "### Convert the timestamp for subtitle"
      ],
      "metadata": {
        "id": "jeOR2ubs7q2o"
      }
    },
    {
      "cell_type": "code",
      "source": [
        "def convert_timestamp(timestamp):\n",
        "    h, m, s, ms = timestamp.split('_')\n",
        "    # Convert hours, minutes, and seconds to integer\n",
        "\n",
        "    # Calculate total minutes and seconds if hour is more than 0\n",
        "\n",
        "    return f\"{h}:{m}:{s}\"\n",
        "\n",
        "# Apply the conversion function to startTimestamp and endTimestamp\n",
        "df['startTimestamp_subtitle'] = df['startTimestamp'].apply(convert_timestamp)\n",
        "df['endTimestamp_subtitle'] = df['endTimestamp'].apply(convert_timestamp)"
      ],
      "metadata": {
        "id": "hfL7cjVl7trr"
      },
      "execution_count": null,
      "outputs": []
    },
    {
      "cell_type": "code",
      "source": [
        "import time\n",
        "timestr = time.strftime(\"%Y-%m-%d_%H-%M-%S\")\n",
        "timestr\n",
        "df.to_csv(\"df_{}.csv\".format(timestr) , index=False, encoding='utf-8-sig')"
      ],
      "metadata": {
        "id": "HHUPrJVgwsRP"
      },
      "execution_count": 5,
      "outputs": []
    },
    {
      "cell_type": "markdown",
      "source": [
        "## Plot the result"
      ],
      "metadata": {
        "id": "wovlCh7oxp9f"
      }
    },
    {
      "cell_type": "code",
      "source": [
        "import pandas as pd\n",
        "import matplotlib.pyplot as plt\n",
        "import seaborn as sns\n",
        "\n",
        "# Assuming df_cleaned is your DataFrame\n",
        "# Load your DataFrame (example: df_cleaned = pd.read_csv('your_file.csv'))\n",
        "\n",
        "# Plotting the count of entries by category\n",
        "plt.figure(figsize=(12, 6))  # Set the figure size for better readability\n",
        "sns.countplot(data=df, x='category', order=df['category'].value_counts().index)\n",
        "\n",
        "plt.title('Count of Companies by Category')  # Title of the plot\n",
        "plt.xlabel('Category')  # X-axis label\n",
        "plt.ylabel('Count')  # Y-axis label\n",
        "plt.xticks(rotation=45, ha=\"right\")  # Rotate category names for better visibility\n",
        "plt.tight_layout()  # Adjust subplot parameters for the plot to fit into the figure area\n",
        "\n",
        "# Show the plot\n",
        "plt.show()"
      ],
      "metadata": {
        "colab": {
          "base_uri": "https://localhost:8080/",
          "height": 607
        },
        "id": "X4VdQ7V5wwNi",
        "outputId": "12de1e4b-e5b5-4eef-ebad-01e3797d8155"
      },
      "execution_count": 7,
      "outputs": [
        {
          "output_type": "display_data",
          "data": {
            "text/plain": [
              "<Figure size 1200x600 with 1 Axes>"
            ],
            "image/png": "[encoded data removed]"
          },
          "metadata": {}
        }
      ]
    },
    {
      "cell_type": "code",
      "source": [],
      "metadata": {
        "id": "7ijj8-b2Z8L3"
      },
      "execution_count": null,
      "outputs": []
    },
    {
      "cell_type": "markdown",
      "source": [
        "## Generate subtitle in TTML format"
      ],
      "metadata": {
        "id": "QrjxOHbR7yVb"
      }
    },
    {
      "cell_type": "code",
      "source": [
        "ttml_content = \"\"\"\n",
        "<tt xml:lang=\"en\" xmlns=\"http://www.w3.org/ns/ttml\" xmlns:ttp=\"http://www.w3.org/ns/ttml#parameter\" ttp:timeBase=\"media\" xmlns:tts=\"http://www.w3.org/ns/ttml#styling\">\n",
        "  <head>\n",
        "    <styling>\n",
        "      <style xml:id=\"s1\" tts:fontFamily=\"Arial\" tts:fontSize=\"16px\" tts:fontWeight=\"bold\" tts:color=\"white\" tts:backgroundColor=\"rgba(0,0,255,0.5)\" tts:textAlign=\"center\"/>\n",
        "      <style xml:id=\"s2\" tts:fontFamily=\"Arial\" tts:fontSize=\"16px\" tts:color=\"yellow\" tts:textAlign=\"center\"/>\n",
        "    </styling>\n",
        "  </head>\n",
        "  <body>\n",
        "\"\"\"\n",
        "\n",
        "# Loop through each row to add subtitles\n",
        "for index, row in df.iterrows():\n",
        "    ttml_content += f\"\"\"\n",
        "    <div style=\"s3 s4\">\n",
        "      <p begin=\"{row['startTimestamp_subtitle']}\" end=\"{row['endTimestamp_subtitle']}\" style=\"s1\">{row['companyName']} ({row['category']})<br/>{row['businessModel']}</p>\n",
        "    </div>\n",
        "\"\"\"\n",
        "\n",
        "# Closing the TTML content\n",
        "ttml_content += \"\"\"\n",
        "  </body>\n",
        "</tt>\n",
        "\"\"\"\n",
        "\n",
        "# Print or write to a file\n",
        "print(ttml_content)  # For demonstration, printing the output"
      ],
      "metadata": {
        "id": "Yy8kz_JH707X"
      },
      "execution_count": null,
      "outputs": []
    }
  ],
  "metadata": {
    "colab": {
      "provenance": []
    },
    "kernelspec": {
      "display_name": "Python 3",
      "name": "python3"
    }
  },
  "nbformat": 4,
  "nbformat_minor": 0
}